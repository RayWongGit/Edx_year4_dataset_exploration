{
 "cells": [
  {
   "cell_type": "markdown",
   "metadata": {},
   "source": [
    "## Loading dataset"
   ]
  },
  {
   "cell_type": "code",
   "execution_count": 1,
   "metadata": {},
   "outputs": [],
   "source": [
    "# import libraries\n",
    "import numpy as np\n",
    "import pandas as pd\n",
    "import matplotlib.pyplot as plt\n",
    "%matplotlib inline\n",
    "import seaborn as sb\n",
    "import datetime\n",
    "from scipy import stats\n",
    "from statsmodels.stats.weightstats import ztest"
   ]
  },
  {
   "cell_type": "code",
   "execution_count": 2,
   "metadata": {
    "scrolled": true
   },
   "outputs": [
    {
     "data": {
      "text/html": [
       "<div>\n",
       "<style scoped>\n",
       "    .dataframe tbody tr th:only-of-type {\n",
       "        vertical-align: middle;\n",
       "    }\n",
       "\n",
       "    .dataframe tbody tr th {\n",
       "        vertical-align: top;\n",
       "    }\n",
       "\n",
       "    .dataframe thead th {\n",
       "        text-align: right;\n",
       "    }\n",
       "</style>\n",
       "<table border=\"1\" class=\"dataframe\">\n",
       "  <thead>\n",
       "    <tr style=\"text-align: right;\">\n",
       "      <th></th>\n",
       "      <th>Institution</th>\n",
       "      <th>CourseNumber</th>\n",
       "      <th>LaunchDate</th>\n",
       "      <th>CourseTitle</th>\n",
       "      <th>Instructors</th>\n",
       "      <th>CourseSubject</th>\n",
       "      <th>Year</th>\n",
       "      <th>Participants</th>\n",
       "      <th>PercentAudited</th>\n",
       "      <th>PercentCertified</th>\n",
       "      <th>PercentCertifiedAudited</th>\n",
       "      <th>PercentPlayedVideo</th>\n",
       "      <th>PercentPosted</th>\n",
       "      <th>PercentGradeHigherThanZero</th>\n",
       "      <th>TotalCourseHours</th>\n",
       "      <th>MedianHoursCertification</th>\n",
       "      <th>MedianAge</th>\n",
       "      <th>PercentFemale</th>\n",
       "      <th>PercentBachelorOrHigher</th>\n",
       "    </tr>\n",
       "  </thead>\n",
       "  <tbody>\n",
       "    <tr>\n",
       "      <th>0</th>\n",
       "      <td>MITx</td>\n",
       "      <td>6.002x</td>\n",
       "      <td>2012-09-05</td>\n",
       "      <td>Circuits and Electronics</td>\n",
       "      <td>Khurram Afridi</td>\n",
       "      <td>STEM</td>\n",
       "      <td>1</td>\n",
       "      <td>36105</td>\n",
       "      <td>15.04</td>\n",
       "      <td>8.32</td>\n",
       "      <td>54.98</td>\n",
       "      <td>83.20</td>\n",
       "      <td>8.17</td>\n",
       "      <td>28.97</td>\n",
       "      <td>418.94</td>\n",
       "      <td>64.45</td>\n",
       "      <td>26.0</td>\n",
       "      <td>11.72</td>\n",
       "      <td>60.68</td>\n",
       "    </tr>\n",
       "    <tr>\n",
       "      <th>1</th>\n",
       "      <td>MITx</td>\n",
       "      <td>6.00x</td>\n",
       "      <td>2012-09-26</td>\n",
       "      <td>Introduction to Computer Science and Programming</td>\n",
       "      <td>Eric Grimson, John Guttag, Chris Terman</td>\n",
       "      <td>CS</td>\n",
       "      <td>1</td>\n",
       "      <td>62709</td>\n",
       "      <td>14.27</td>\n",
       "      <td>9.22</td>\n",
       "      <td>64.05</td>\n",
       "      <td>89.14</td>\n",
       "      <td>14.38</td>\n",
       "      <td>39.50</td>\n",
       "      <td>884.04</td>\n",
       "      <td>78.53</td>\n",
       "      <td>28.0</td>\n",
       "      <td>16.50</td>\n",
       "      <td>63.04</td>\n",
       "    </tr>\n",
       "    <tr>\n",
       "      <th>2</th>\n",
       "      <td>MITx</td>\n",
       "      <td>3.091x</td>\n",
       "      <td>2012-10-09</td>\n",
       "      <td>Introduction to Solid State Chemistry</td>\n",
       "      <td>Michael Cima</td>\n",
       "      <td>STEM</td>\n",
       "      <td>1</td>\n",
       "      <td>16663</td>\n",
       "      <td>17.13</td>\n",
       "      <td>12.49</td>\n",
       "      <td>72.85</td>\n",
       "      <td>87.49</td>\n",
       "      <td>14.42</td>\n",
       "      <td>34.89</td>\n",
       "      <td>227.55</td>\n",
       "      <td>61.28</td>\n",
       "      <td>27.0</td>\n",
       "      <td>29.68</td>\n",
       "      <td>58.76</td>\n",
       "    </tr>\n",
       "    <tr>\n",
       "      <th>3</th>\n",
       "      <td>HarvardX</td>\n",
       "      <td>PH207x</td>\n",
       "      <td>2012-10-15</td>\n",
       "      <td>Health in Numbers: Quantitative Methods in Cli...</td>\n",
       "      <td>Earl Francis Cook, Marcello Pagano</td>\n",
       "      <td>GHSS</td>\n",
       "      <td>1</td>\n",
       "      <td>52521</td>\n",
       "      <td>20.44</td>\n",
       "      <td>9.64</td>\n",
       "      <td>47.12</td>\n",
       "      <td>77.45</td>\n",
       "      <td>15.98</td>\n",
       "      <td>32.52</td>\n",
       "      <td>804.41</td>\n",
       "      <td>76.10</td>\n",
       "      <td>32.0</td>\n",
       "      <td>43.22</td>\n",
       "      <td>88.33</td>\n",
       "    </tr>\n",
       "    <tr>\n",
       "      <th>4</th>\n",
       "      <td>MITx</td>\n",
       "      <td>6.00x</td>\n",
       "      <td>2013-02-04</td>\n",
       "      <td>Introduction to Computer Science and Programming</td>\n",
       "      <td>Larry Rudolph</td>\n",
       "      <td>CS</td>\n",
       "      <td>1</td>\n",
       "      <td>65380</td>\n",
       "      <td>9.90</td>\n",
       "      <td>5.07</td>\n",
       "      <td>51.17</td>\n",
       "      <td>82.43</td>\n",
       "      <td>10.30</td>\n",
       "      <td>28.90</td>\n",
       "      <td>639.40</td>\n",
       "      <td>84.14</td>\n",
       "      <td>27.0</td>\n",
       "      <td>16.01</td>\n",
       "      <td>60.90</td>\n",
       "    </tr>\n",
       "  </tbody>\n",
       "</table>\n",
       "</div>"
      ],
      "text/plain": [
       "  Institution CourseNumber LaunchDate  \\\n",
       "0        MITx       6.002x 2012-09-05   \n",
       "1        MITx        6.00x 2012-09-26   \n",
       "2        MITx       3.091x 2012-10-09   \n",
       "3    HarvardX       PH207x 2012-10-15   \n",
       "4        MITx        6.00x 2013-02-04   \n",
       "\n",
       "                                         CourseTitle  \\\n",
       "0                           Circuits and Electronics   \n",
       "1   Introduction to Computer Science and Programming   \n",
       "2              Introduction to Solid State Chemistry   \n",
       "3  Health in Numbers: Quantitative Methods in Cli...   \n",
       "4   Introduction to Computer Science and Programming   \n",
       "\n",
       "                               Instructors CourseSubject  Year  Participants  \\\n",
       "0                           Khurram Afridi          STEM     1         36105   \n",
       "1  Eric Grimson, John Guttag, Chris Terman            CS     1         62709   \n",
       "2                             Michael Cima          STEM     1         16663   \n",
       "3       Earl Francis Cook, Marcello Pagano          GHSS     1         52521   \n",
       "4                            Larry Rudolph            CS     1         65380   \n",
       "\n",
       "   PercentAudited  PercentCertified  PercentCertifiedAudited  \\\n",
       "0           15.04              8.32                    54.98   \n",
       "1           14.27              9.22                    64.05   \n",
       "2           17.13             12.49                    72.85   \n",
       "3           20.44              9.64                    47.12   \n",
       "4            9.90              5.07                    51.17   \n",
       "\n",
       "   PercentPlayedVideo  PercentPosted  PercentGradeHigherThanZero  \\\n",
       "0               83.20           8.17                       28.97   \n",
       "1               89.14          14.38                       39.50   \n",
       "2               87.49          14.42                       34.89   \n",
       "3               77.45          15.98                       32.52   \n",
       "4               82.43          10.30                       28.90   \n",
       "\n",
       "   TotalCourseHours  MedianHoursCertification  MedianAge  PercentFemale  \\\n",
       "0            418.94                     64.45       26.0          11.72   \n",
       "1            884.04                     78.53       28.0          16.50   \n",
       "2            227.55                     61.28       27.0          29.68   \n",
       "3            804.41                     76.10       32.0          43.22   \n",
       "4            639.40                     84.14       27.0          16.01   \n",
       "\n",
       "   PercentBachelorOrHigher  \n",
       "0                    60.68  \n",
       "1                    63.04  \n",
       "2                    58.76  \n",
       "3                    88.33  \n",
       "4                    60.90  "
      ]
     },
     "execution_count": 2,
     "metadata": {},
     "output_type": "execute_result"
    }
   ],
   "source": [
    "# loading data\n",
    "df = pd.read_csv('data/appendix_cleaned.csv', parse_dates=['LaunchDate'])\n",
    "df.head()"
   ]
  },
  {
   "cell_type": "code",
   "execution_count": null,
   "metadata": {},
   "outputs": [],
   "source": [
    "df.groupby('CourseSubject')['CourseTitle']"
   ]
  },
  {
   "cell_type": "code",
   "execution_count": 3,
   "metadata": {},
   "outputs": [
    {
     "name": "stdout",
     "output_type": "stream",
     "text": [
      "<class 'pandas.core.frame.DataFrame'>\n",
      "RangeIndex: 282 entries, 0 to 281\n",
      "Data columns (total 19 columns):\n",
      "Institution                   282 non-null object\n",
      "CourseNumber                  282 non-null object\n",
      "LaunchDate                    282 non-null datetime64[ns]\n",
      "CourseTitle                   282 non-null object\n",
      "Instructors                   281 non-null object\n",
      "CourseSubject                 282 non-null object\n",
      "Year                          282 non-null int64\n",
      "Participants                  282 non-null int64\n",
      "PercentAudited                282 non-null float64\n",
      "PercentCertified              282 non-null float64\n",
      "PercentCertifiedAudited       282 non-null float64\n",
      "PercentPlayedVideo            282 non-null float64\n",
      "PercentPosted                 282 non-null float64\n",
      "PercentGradeHigherThanZero    282 non-null float64\n",
      "TotalCourseHours              282 non-null float64\n",
      "MedianHoursCertification      282 non-null float64\n",
      "MedianAge                     282 non-null float64\n",
      "PercentFemale                 282 non-null float64\n",
      "PercentBachelorOrHigher       282 non-null float64\n",
      "dtypes: datetime64[ns](1), float64(11), int64(2), object(5)\n",
      "memory usage: 41.9+ KB\n"
     ]
    }
   ],
   "source": [
    "# basic info\n",
    "df.info()"
   ]
  },
  {
   "cell_type": "code",
   "execution_count": 4,
   "metadata": {
    "scrolled": true
   },
   "outputs": [
    {
     "data": {
      "text/html": [
       "<div>\n",
       "<style scoped>\n",
       "    .dataframe tbody tr th:only-of-type {\n",
       "        vertical-align: middle;\n",
       "    }\n",
       "\n",
       "    .dataframe tbody tr th {\n",
       "        vertical-align: top;\n",
       "    }\n",
       "\n",
       "    .dataframe thead th {\n",
       "        text-align: right;\n",
       "    }\n",
       "</style>\n",
       "<table border=\"1\" class=\"dataframe\">\n",
       "  <thead>\n",
       "    <tr style=\"text-align: right;\">\n",
       "      <th></th>\n",
       "      <th>Year</th>\n",
       "      <th>Participants</th>\n",
       "      <th>PercentAudited</th>\n",
       "      <th>PercentCertified</th>\n",
       "      <th>PercentCertifiedAudited</th>\n",
       "      <th>PercentPlayedVideo</th>\n",
       "      <th>PercentPosted</th>\n",
       "      <th>PercentGradeHigherThanZero</th>\n",
       "      <th>TotalCourseHours</th>\n",
       "      <th>MedianHoursCertification</th>\n",
       "      <th>MedianAge</th>\n",
       "      <th>PercentFemale</th>\n",
       "      <th>PercentBachelorOrHigher</th>\n",
       "    </tr>\n",
       "  </thead>\n",
       "  <tbody>\n",
       "    <tr>\n",
       "      <th>count</th>\n",
       "      <td>282.000000</td>\n",
       "      <td>282.000000</td>\n",
       "      <td>282.000000</td>\n",
       "      <td>282.000000</td>\n",
       "      <td>282.000000</td>\n",
       "      <td>282.000000</td>\n",
       "      <td>282.000000</td>\n",
       "      <td>282.000000</td>\n",
       "      <td>282.000000</td>\n",
       "      <td>282.000000</td>\n",
       "      <td>282.000000</td>\n",
       "      <td>282.000000</td>\n",
       "      <td>282.000000</td>\n",
       "    </tr>\n",
       "    <tr>\n",
       "      <th>mean</th>\n",
       "      <td>3.195035</td>\n",
       "      <td>14933.691489</td>\n",
       "      <td>25.154504</td>\n",
       "      <td>7.963369</td>\n",
       "      <td>32.072270</td>\n",
       "      <td>64.589043</td>\n",
       "      <td>9.410461</td>\n",
       "      <td>21.569858</td>\n",
       "      <td>95.709149</td>\n",
       "      <td>44.863865</td>\n",
       "      <td>29.255319</td>\n",
       "      <td>33.022270</td>\n",
       "      <td>72.153369</td>\n",
       "    </tr>\n",
       "    <tr>\n",
       "      <th>std</th>\n",
       "      <td>0.889386</td>\n",
       "      <td>27631.454243</td>\n",
       "      <td>15.915692</td>\n",
       "      <td>6.968177</td>\n",
       "      <td>19.477421</td>\n",
       "      <td>11.901607</td>\n",
       "      <td>7.508248</td>\n",
       "      <td>13.267177</td>\n",
       "      <td>159.208726</td>\n",
       "      <td>43.771098</td>\n",
       "      <td>3.817042</td>\n",
       "      <td>15.813436</td>\n",
       "      <td>10.167046</td>\n",
       "    </tr>\n",
       "    <tr>\n",
       "      <th>min</th>\n",
       "      <td>1.000000</td>\n",
       "      <td>322.000000</td>\n",
       "      <td>2.630000</td>\n",
       "      <td>0.120000</td>\n",
       "      <td>0.710000</td>\n",
       "      <td>10.960000</td>\n",
       "      <td>0.000000</td>\n",
       "      <td>0.000000</td>\n",
       "      <td>0.110000</td>\n",
       "      <td>0.000000</td>\n",
       "      <td>22.000000</td>\n",
       "      <td>7.460000</td>\n",
       "      <td>44.950000</td>\n",
       "    </tr>\n",
       "    <tr>\n",
       "      <th>25%</th>\n",
       "      <td>3.000000</td>\n",
       "      <td>3763.250000</td>\n",
       "      <td>14.277500</td>\n",
       "      <td>2.780000</td>\n",
       "      <td>14.935000</td>\n",
       "      <td>58.950000</td>\n",
       "      <td>4.115000</td>\n",
       "      <td>11.727500</td>\n",
       "      <td>13.475000</td>\n",
       "      <td>12.485000</td>\n",
       "      <td>26.000000</td>\n",
       "      <td>18.367500</td>\n",
       "      <td>64.590000</td>\n",
       "    </tr>\n",
       "    <tr>\n",
       "      <th>50%</th>\n",
       "      <td>3.000000</td>\n",
       "      <td>7901.500000</td>\n",
       "      <td>20.440000</td>\n",
       "      <td>6.190000</td>\n",
       "      <td>31.650000</td>\n",
       "      <td>66.265000</td>\n",
       "      <td>7.315000</td>\n",
       "      <td>19.805000</td>\n",
       "      <td>37.710000</td>\n",
       "      <td>27.290000</td>\n",
       "      <td>29.000000</td>\n",
       "      <td>33.395000</td>\n",
       "      <td>73.325000</td>\n",
       "    </tr>\n",
       "    <tr>\n",
       "      <th>75%</th>\n",
       "      <td>4.000000</td>\n",
       "      <td>17541.500000</td>\n",
       "      <td>34.002500</td>\n",
       "      <td>11.062500</td>\n",
       "      <td>47.842500</td>\n",
       "      <td>72.522500</td>\n",
       "      <td>14.107500</td>\n",
       "      <td>31.180000</td>\n",
       "      <td>97.225000</td>\n",
       "      <td>67.472500</td>\n",
       "      <td>31.000000</td>\n",
       "      <td>45.927500</td>\n",
       "      <td>79.387500</td>\n",
       "    </tr>\n",
       "    <tr>\n",
       "      <th>max</th>\n",
       "      <td>4.000000</td>\n",
       "      <td>301082.000000</td>\n",
       "      <td>83.960000</td>\n",
       "      <td>33.980000</td>\n",
       "      <td>77.090000</td>\n",
       "      <td>89.140000</td>\n",
       "      <td>35.280000</td>\n",
       "      <td>52.350000</td>\n",
       "      <td>895.010000</td>\n",
       "      <td>251.820000</td>\n",
       "      <td>40.000000</td>\n",
       "      <td>74.760000</td>\n",
       "      <td>92.080000</td>\n",
       "    </tr>\n",
       "  </tbody>\n",
       "</table>\n",
       "</div>"
      ],
      "text/plain": [
       "             Year   Participants  PercentAudited  PercentCertified  \\\n",
       "count  282.000000     282.000000      282.000000        282.000000   \n",
       "mean     3.195035   14933.691489       25.154504          7.963369   \n",
       "std      0.889386   27631.454243       15.915692          6.968177   \n",
       "min      1.000000     322.000000        2.630000          0.120000   \n",
       "25%      3.000000    3763.250000       14.277500          2.780000   \n",
       "50%      3.000000    7901.500000       20.440000          6.190000   \n",
       "75%      4.000000   17541.500000       34.002500         11.062500   \n",
       "max      4.000000  301082.000000       83.960000         33.980000   \n",
       "\n",
       "       PercentCertifiedAudited  PercentPlayedVideo  PercentPosted  \\\n",
       "count               282.000000          282.000000     282.000000   \n",
       "mean                 32.072270           64.589043       9.410461   \n",
       "std                  19.477421           11.901607       7.508248   \n",
       "min                   0.710000           10.960000       0.000000   \n",
       "25%                  14.935000           58.950000       4.115000   \n",
       "50%                  31.650000           66.265000       7.315000   \n",
       "75%                  47.842500           72.522500      14.107500   \n",
       "max                  77.090000           89.140000      35.280000   \n",
       "\n",
       "       PercentGradeHigherThanZero  TotalCourseHours  MedianHoursCertification  \\\n",
       "count                  282.000000        282.000000                282.000000   \n",
       "mean                    21.569858         95.709149                 44.863865   \n",
       "std                     13.267177        159.208726                 43.771098   \n",
       "min                      0.000000          0.110000                  0.000000   \n",
       "25%                     11.727500         13.475000                 12.485000   \n",
       "50%                     19.805000         37.710000                 27.290000   \n",
       "75%                     31.180000         97.225000                 67.472500   \n",
       "max                     52.350000        895.010000                251.820000   \n",
       "\n",
       "        MedianAge  PercentFemale  PercentBachelorOrHigher  \n",
       "count  282.000000     282.000000               282.000000  \n",
       "mean    29.255319      33.022270                72.153369  \n",
       "std      3.817042      15.813436                10.167046  \n",
       "min     22.000000       7.460000                44.950000  \n",
       "25%     26.000000      18.367500                64.590000  \n",
       "50%     29.000000      33.395000                73.325000  \n",
       "75%     31.000000      45.927500                79.387500  \n",
       "max     40.000000      74.760000                92.080000  "
      ]
     },
     "execution_count": 4,
     "metadata": {},
     "output_type": "execute_result"
    }
   ],
   "source": [
    "# statistical description\n",
    "df.describe()"
   ]
  },
  {
   "cell_type": "code",
   "execution_count": 5,
   "metadata": {
    "scrolled": true
   },
   "outputs": [
    {
     "data": {
      "text/plain": [
       "Index(['Institution', 'CourseNumber', 'LaunchDate', 'CourseTitle',\n",
       "       'Instructors', 'CourseSubject', 'Year', 'Participants',\n",
       "       'PercentAudited', 'PercentCertified', 'PercentCertifiedAudited',\n",
       "       'PercentPlayedVideo', 'PercentPosted', 'PercentGradeHigherThanZero',\n",
       "       'TotalCourseHours', 'MedianHoursCertification', 'MedianAge',\n",
       "       'PercentFemale', 'PercentBachelorOrHigher'],\n",
       "      dtype='object')"
      ]
     },
     "execution_count": 5,
     "metadata": {},
     "output_type": "execute_result"
    }
   ],
   "source": [
    "df.columns"
   ]
  },
  {
   "cell_type": "markdown",
   "metadata": {},
   "source": [
    "## Univariate Exploration"
   ]
  },
  {
   "cell_type": "markdown",
   "metadata": {},
   "source": [
    "In this part, we conduct univariate exploration. The dependent variables are 'PercentCertified' and 'PercentCertifiedAudited', the others will server as the independent variables. For better exploration, we divide the independent variables into 3 categories below:\n",
    "\n",
    "- **Course related variables:** Including 'Institution', 'CourseNumber', 'LaunchDate', 'CourseTitle','Instructors', 'CourseSubject', 'Year'\n",
    "- **Learners Demographic variables:** Including 'MedianAge', 'PercentFemale', 'PercentBachelorOrHigher'\n",
    "- **Learners activity variables:** Including 'Participants','PercentAudited', 'PercentPlayedVideo', 'PercentPosted', 'PercentGradeGreaterThanZero','TotalCourseHours', 'MedianHoursCertification'"
   ]
  },
  {
   "cell_type": "markdown",
   "metadata": {},
   "source": [
    "### Dependent Variables\n",
    "\n",
    "The dependent variable PercentCertified is actually the certification rate for participants. \n",
    "\n",
    "The dependent variable PercentCertifiedAudited is the certification rate for audited.\n",
    "\n",
    "#### PercentCertified"
   ]
  },
  {
   "cell_type": "code",
   "execution_count": 6,
   "metadata": {},
   "outputs": [
    {
     "data": {
      "image/png": "[encoded data removed]",
      "text/plain": [
       "<Figure size 720x432 with 1 Axes>"
      ]
     },
     "metadata": {
      "needs_background": "light"
     },
     "output_type": "display_data"
    }
   ],
   "source": [
    "# histogram of PercentCertified\n",
    "plt.figure(figsize=(10, 6))\n",
    "plt.hist(df['PercentCertified'], bins=35)\n",
    "plt.title('Histogram of Certification Rate')\n",
    "plt.xlabel('Certification Rate(%)')\n",
    "plt.ylabel('Count');"
   ]
  },
  {
   "cell_type": "code",
   "execution_count": 7,
   "metadata": {
    "scrolled": false
   },
   "outputs": [
    {
     "data": {
      "image/png": "[encoded data removed]",
      "text/plain": [
       "<Figure size 720x432 with 1 Axes>"
      ]
     },
     "metadata": {
      "needs_background": "light"
     },
     "output_type": "display_data"
    }
   ],
   "source": [
    "# Boxplot of Certification Rate for Participants\n",
    "plt.figure(figsize=(10, 6))\n",
    "sb.boxplot(df['PercentCertified'])\n",
    "#plt.title('Boxplot of Certification Rate for Partifipants')\n",
    "plt.xlabel('Certification Rate(%)')\n",
    "plt.ylabel('Participants')\n",
    "plt.savefig('figures/Figure 1.pdf');"
   ]
  },
  {
   "cell_type": "code",
   "execution_count": 8,
   "metadata": {
    "scrolled": true
   },
   "outputs": [
    {
     "data": {
      "text/plain": [
       "count    282.000000\n",
       "mean       7.963369\n",
       "std        6.968177\n",
       "min        0.120000\n",
       "25%        2.780000\n",
       "50%        6.190000\n",
       "75%       11.062500\n",
       "max       33.980000\n",
       "Name: PercentCertified, dtype: float64"
      ]
     },
     "execution_count": 8,
     "metadata": {},
     "output_type": "execute_result"
    }
   ],
   "source": [
    "df['PercentCertified'].describe()"
   ]
  },
  {
   "cell_type": "markdown",
   "metadata": {},
   "source": [
    "We can see that the histogram of PercentCertified is right skewed. Most courses have a certification rate of less than 10%. There are also a few courses with a certification rate of more than 30%."
   ]
  },
  {
   "cell_type": "markdown",
   "metadata": {},
   "source": [
    "#### PercentCertifiedAudited"
   ]
  },
  {
   "cell_type": "code",
   "execution_count": 9,
   "metadata": {},
   "outputs": [
    {
     "data": {
      "image/png": "[encoded data removed]",
      "text/plain": [
       "<Figure size 720x432 with 1 Axes>"
      ]
     },
     "metadata": {
      "needs_background": "light"
     },
     "output_type": "display_data"
    }
   ],
   "source": [
    "# histogram of PercentCertifiedAudited\n",
    "plt.figure(figsize=(10, 6))\n",
    "plt.hist(df['PercentCertifiedAudited'], bins=40)\n",
    "plt.title('Histogram of Certification Rate for Audited')\n",
    "plt.xlabel('Certification Rate for Audited(%)')\n",
    "plt.ylabel('Count');"
   ]
  },
  {
   "cell_type": "code",
   "execution_count": 10,
   "metadata": {
    "scrolled": false
   },
   "outputs": [
    {
     "data": {
      "image/png": "[encoded data removed]",
      "text/plain": [
       "<Figure size 720x432 with 1 Axes>"
      ]
     },
     "metadata": {
      "needs_background": "light"
     },
     "output_type": "display_data"
    }
   ],
   "source": [
    "# Boxplot of Certification Rate for Audited\n",
    "plt.figure(figsize=(10, 6))\n",
    "sb.boxplot(df['PercentCertifiedAudited'])\n",
    "#plt.title('Boxplot of Certification Rate for Audited')\n",
    "plt.xlabel('Certification Rate for Audited(%)')\n",
    "plt.ylabel('Audited')\n",
    "plt.savefig('figures/Figure 2.pdf');"
   ]
  },
  {
   "cell_type": "code",
   "execution_count": 11,
   "metadata": {
    "scrolled": true
   },
   "outputs": [
    {
     "data": {
      "text/plain": [
       "count    282.000000\n",
       "mean      32.072270\n",
       "std       19.477421\n",
       "min        0.710000\n",
       "25%       14.935000\n",
       "50%       31.650000\n",
       "75%       47.842500\n",
       "max       77.090000\n",
       "Name: PercentCertifiedAudited, dtype: float64"
      ]
     },
     "execution_count": 11,
     "metadata": {},
     "output_type": "execute_result"
    }
   ],
   "source": [
    "df['PercentCertifiedAudited'].describe()"
   ]
  },
  {
   "cell_type": "markdown",
   "metadata": {},
   "source": [
    "The certification rates for audited is more evenly distributed. With a mean of 32 and range of 76."
   ]
  },
  {
   "cell_type": "markdown",
   "metadata": {},
   "source": [
    "Are the certification rates of audited significantly different from the certification rates of the intended which we defined in the year 1 dataset? We will conduct a t test."
   ]
  },
  {
   "cell_type": "code",
   "execution_count": 12,
   "metadata": {},
   "outputs": [],
   "source": [
    "certification_rate_intended = [25.42, 100.0, 43.57, 28.73, 25.86, 41.66, 22.3, 36.27, 27.89, 31.88, 27.57, 18.7, \n",
    "                               12.94, 26.2, 20.7, 28.65]"
   ]
  },
  {
   "cell_type": "code",
   "execution_count": 13,
   "metadata": {},
   "outputs": [
    {
     "name": "stdout",
     "output_type": "stream",
     "text": [
      "The p value is 0.9484631427130592\n",
      "\n",
      "p is relatively large, there is no significant difference between the two means\n"
     ]
    }
   ],
   "source": [
    "# independent t test\n",
    "t, p = stats.ttest_ind(certification_rate_intended, df.PercentCertifiedAudited)\n",
    "print('The p value is {}\\n'.format(p))\n",
    "if p < 0.05:\n",
    "    print('p is very small, there is a significant difference between the two means')\n",
    "else:\n",
    "    print('p is relatively large, there is no significant difference between the two means')"
   ]
  },
  {
   "cell_type": "code",
   "execution_count": 14,
   "metadata": {},
   "outputs": [
    {
     "name": "stdout",
     "output_type": "stream",
     "text": [
      "The p value is 0.9484194753333015\n",
      "\n",
      "p is relatively large, there is no significant difference between the two means\n"
     ]
    }
   ],
   "source": [
    "# z test\n",
    "z, p = ztest(certification_rate_intended, df.PercentCertifiedAudited)\n",
    "print('The p value is {}\\n'.format(p))\n",
    "if p < 0.05:\n",
    "    print('p is very small, there is a significant difference between the two means')\n",
    "else:\n",
    "    print('p is relatively large, there is no significant difference between the two means')"
   ]
  },
  {
   "cell_type": "markdown",
   "metadata": {},
   "source": [
    "We will use the certification rate of the audited as a proxy of the certification rate of intended. "
   ]
  },
  {
   "cell_type": "markdown",
   "metadata": {},
   "source": [
    "Significent test between certification rate of participants and audited: "
   ]
  },
  {
   "cell_type": "code",
   "execution_count": 15,
   "metadata": {
    "scrolled": true
   },
   "outputs": [
    {
     "name": "stdout",
     "output_type": "stream",
     "text": [
      "The p value is 1.98247506736508e-65\n",
      "\n",
      "p is very small, there is a significant difference between the two means\n"
     ]
    }
   ],
   "source": [
    "# independent t test\n",
    "t, p = stats.ttest_ind(df.PercentCertified, df.PercentCertifiedAudited)\n",
    "print('The p value is {}\\n'.format(p))\n",
    "if p < 0.05:\n",
    "    print('p is very small, there is a significant difference between the two means')\n",
    "else:\n",
    "    print('p is relatively large, there is no significant difference between the two means')"
   ]
  },
  {
   "cell_type": "code",
   "execution_count": 16,
   "metadata": {},
   "outputs": [
    {
     "name": "stdout",
     "output_type": "stream",
     "text": [
      "The p value is 2.7208567432590757e-85\n",
      "\n",
      "p is very small, there is a significant difference between the two means\n"
     ]
    }
   ],
   "source": [
    "# z test\n",
    "z, p = ztest(df.PercentCertified, df.PercentCertifiedAudited)\n",
    "print('The p value is {}\\n'.format(p))\n",
    "if p < 0.05:\n",
    "    print('p is very small, there is a significant difference between the two means')\n",
    "else:\n",
    "    print('p is relatively large, there is no significant difference between the two means')"
   ]
  },
  {
   "cell_type": "markdown",
   "metadata": {},
   "source": [
    "Significent test between certification rate of participants and intended:"
   ]
  },
  {
   "cell_type": "code",
   "execution_count": 17,
   "metadata": {
    "scrolled": false
   },
   "outputs": [
    {
     "name": "stdout",
     "output_type": "stream",
     "text": [
      "The p value is 2.3804903329042682e-26\n",
      "\n",
      "p is very small, there is a significant difference between the two means\n"
     ]
    }
   ],
   "source": [
    "# independent t test\n",
    "t, p = stats.ttest_ind(df.PercentCertified, certification_rate_intended)\n",
    "print('The p value is {}\\n'.format(p))\n",
    "if p < 0.05:\n",
    "    print('p is very small, there is a significant difference between the two means')\n",
    "else:\n",
    "    print('p is relatively large, there is no significant difference between the two means')"
   ]
  },
  {
   "cell_type": "code",
   "execution_count": 18,
   "metadata": {},
   "outputs": [
    {
     "name": "stdout",
     "output_type": "stream",
     "text": [
      "The p value is 8.993174511422723e-32\n",
      "\n",
      "p is very small, there is a significant difference between the two means\n"
     ]
    }
   ],
   "source": [
    "# z test\n",
    "z, p = ztest(df.PercentCertified, certification_rate_intended)\n",
    "print('The p value is {}\\n'.format(p))\n",
    "if p < 0.05:\n",
    "    print('p is very small, there is a significant difference between the two means')\n",
    "else:\n",
    "    print('p is relatively large, there is no significant difference between the two means')"
   ]
  },
  {
   "cell_type": "markdown",
   "metadata": {},
   "source": [
    "### Course related variables: \n",
    "In this part we explore the Course related variables including 'Institution', 'CourseSubject', 'Year'"
   ]
  },
  {
   "cell_type": "markdown",
   "metadata": {},
   "source": [
    "#### Institution"
   ]
  },
  {
   "cell_type": "code",
   "execution_count": 19,
   "metadata": {},
   "outputs": [
    {
     "data": {
      "image/png": "[encoded data removed]",
      "text/plain": [
       "<Figure size 432x288 with 1 Axes>"
      ]
     },
     "metadata": {
      "needs_background": "light"
     },
     "output_type": "display_data"
    }
   ],
   "source": [
    "# bar chart of Institution\n",
    "sb.countplot(data=df, x='Institution')\n",
    "n_records = df.shape[0]\n",
    "tick_props = np.arange(0, 1+0.1, 0.1)\n",
    "tick_names = ['{:.2f}'.format(x) for x in tick_props]\n",
    "plt.yticks(tick_props*n_records, tick_names)\n",
    "plt.ylabel('Proportion');"
   ]
  },
  {
   "cell_type": "markdown",
   "metadata": {},
   "source": [
    "MITx has a little more cources than HarvardX."
   ]
  },
  {
   "cell_type": "markdown",
   "metadata": {},
   "source": [
    "#### CourseSubject"
   ]
  },
  {
   "cell_type": "code",
   "execution_count": 20,
   "metadata": {
    "scrolled": true
   },
   "outputs": [
    {
     "data": {
      "image/png": "[encoded data removed]",
      "text/plain": [
       "<Figure size 432x288 with 1 Axes>"
      ]
     },
     "metadata": {
      "needs_background": "light"
     },
     "output_type": "display_data"
    }
   ],
   "source": [
    "# bar chart of CourseSubject\n",
    "n_records = df.shape[0]\n",
    "tick_props = np.arange(0, 1+0.1, 0.1)\n",
    "tick_names = ['{:.2f}'.format(x) for x in tick_props]\n",
    "plt.yticks(tick_props*n_records, tick_names)\n",
    "plt.ylabel('Proportion')\n",
    "df['CourseSubject'].value_counts().plot.bar();"
   ]
  },
  {
   "cell_type": "markdown",
   "metadata": {},
   "source": [
    "More courses are in HHDRE and STEM categories."
   ]
  },
  {
   "cell_type": "markdown",
   "metadata": {},
   "source": [
    "#### Year"
   ]
  },
  {
   "cell_type": "code",
   "execution_count": 21,
   "metadata": {
    "scrolled": false
   },
   "outputs": [
    {
     "data": {
      "image/png": "[encoded data removed]",
      "text/plain": [
       "<Figure size 432x288 with 1 Axes>"
      ]
     },
     "metadata": {
      "needs_background": "light"
     },
     "output_type": "display_data"
    }
   ],
   "source": [
    "# bar chart of year\n",
    "df['Year'].value_counts().sort_values().plot.bar();"
   ]
  },
  {
   "cell_type": "markdown",
   "metadata": {},
   "source": [
    "The number of courses are increasing stablely over the years"
   ]
  },
  {
   "cell_type": "markdown",
   "metadata": {},
   "source": [
    "### Learners Demographic variables\n",
    "\n",
    "Next we will explore the Learners Demographic variables including 'MedianAge', 'PercentFemale', 'PercentBachelorOrHigher'"
   ]
  },
  {
   "cell_type": "markdown",
   "metadata": {},
   "source": [
    "#### MedianAge"
   ]
  },
  {
   "cell_type": "code",
   "execution_count": 22,
   "metadata": {
    "scrolled": true
   },
   "outputs": [
    {
     "data": {
      "image/png": "[encoded data removed]",
      "text/plain": [
       "<Figure size 432x288 with 1 Axes>"
      ]
     },
     "metadata": {
      "needs_background": "light"
     },
     "output_type": "display_data"
    }
   ],
   "source": [
    "# boxplot of MedianAge\n",
    "sb.boxplot(df['MedianAge'])\n",
    "plt.title('Boxplot of Median Age')\n",
    "plt.xlabel('Median Age');"
   ]
  },
  {
   "cell_type": "code",
   "execution_count": 23,
   "metadata": {},
   "outputs": [
    {
     "data": {
      "text/plain": [
       "count    282.000000\n",
       "mean      29.255319\n",
       "std        3.817042\n",
       "min       22.000000\n",
       "25%       26.000000\n",
       "50%       29.000000\n",
       "75%       31.000000\n",
       "max       40.000000\n",
       "Name: MedianAge, dtype: float64"
      ]
     },
     "execution_count": 23,
     "metadata": {},
     "output_type": "execute_result"
    }
   ],
   "source": [
    "# descriptive statistics\n",
    "df['MedianAge'].describe()"
   ]
  },
  {
   "cell_type": "markdown",
   "metadata": {},
   "source": [
    "#### PercentFemale"
   ]
  },
  {
   "cell_type": "code",
   "execution_count": 24,
   "metadata": {
    "scrolled": true
   },
   "outputs": [
    {
     "data": {
      "image/png": "[encoded data removed]",
      "text/plain": [
       "<Figure size 432x288 with 1 Axes>"
      ]
     },
     "metadata": {
      "needs_background": "light"
     },
     "output_type": "display_data"
    }
   ],
   "source": [
    "# boxplot of PercentFemale\n",
    "sb.boxplot(df['PercentFemale'])\n",
    "plt.title('Boxplot of Percentage of Female')\n",
    "plt.xlabel('Percentage of Female');"
   ]
  },
  {
   "cell_type": "code",
   "execution_count": 25,
   "metadata": {},
   "outputs": [
    {
     "data": {
      "text/plain": [
       "count    282.000000\n",
       "mean      33.022270\n",
       "std       15.813436\n",
       "min        7.460000\n",
       "25%       18.367500\n",
       "50%       33.395000\n",
       "75%       45.927500\n",
       "max       74.760000\n",
       "Name: PercentFemale, dtype: float64"
      ]
     },
     "execution_count": 25,
     "metadata": {},
     "output_type": "execute_result"
    }
   ],
   "source": [
    "# descriptive statistics\n",
    "df['PercentFemale'].describe()"
   ]
  },
  {
   "cell_type": "markdown",
   "metadata": {},
   "source": [
    "#### PercentBachelorOrHigher"
   ]
  },
  {
   "cell_type": "code",
   "execution_count": 26,
   "metadata": {
    "scrolled": true
   },
   "outputs": [
    {
     "data": {
      "image/png": "[encoded data removed]",
      "text/plain": [
       "<Figure size 432x288 with 1 Axes>"
      ]
     },
     "metadata": {
      "needs_background": "light"
     },
     "output_type": "display_data"
    }
   ],
   "source": [
    "# boxplot of PercentBachelorOrHigher\n",
    "sb.boxplot(df['PercentBachelorOrHigher'])\n",
    "plt.title('Boxplot of PercentBachelorOrHigher')\n",
    "plt.xlabel('Percentage of Bachelor\\'s Or Higher');"
   ]
  },
  {
   "cell_type": "code",
   "execution_count": 27,
   "metadata": {},
   "outputs": [
    {
     "data": {
      "text/plain": [
       "count    282.000000\n",
       "mean      72.153369\n",
       "std       10.167046\n",
       "min       44.950000\n",
       "25%       64.590000\n",
       "50%       73.325000\n",
       "75%       79.387500\n",
       "max       92.080000\n",
       "Name: PercentBachelorOrHigher, dtype: float64"
      ]
     },
     "execution_count": 27,
     "metadata": {},
     "output_type": "execute_result"
    }
   ],
   "source": [
    "# descriptive statistics\n",
    "df['PercentBachelorOrHigher'].describe()"
   ]
  },
  {
   "cell_type": "markdown",
   "metadata": {},
   "source": [
    "### Learners activity variables\n",
    "\n",
    "In this part, we explore the learners activity variables including 'Participants','PercentAudited', 'PercentPlayedVideo', 'PercentPosted', 'PercentGradeGreaterThanZero', 'TotalCourseHours', 'MedianHoursCertification'"
   ]
  },
  {
   "cell_type": "markdown",
   "metadata": {},
   "source": [
    "#### Participants"
   ]
  },
  {
   "cell_type": "code",
   "execution_count": 28,
   "metadata": {
    "scrolled": true
   },
   "outputs": [
    {
     "data": {
      "image/png": "[encoded data removed]",
      "text/plain": [
       "<Figure size 576x288 with 1 Axes>"
      ]
     },
     "metadata": {
      "needs_background": "light"
     },
     "output_type": "display_data"
    }
   ],
   "source": [
    "# boxplot of Participants\n",
    "plt.figure(figsize=(8, 4))\n",
    "sb.boxplot(df['Participants'])\n",
    "plt.title('Boxplot of Participants')\n",
    "plt.xlabel('Number of Participants');"
   ]
  },
  {
   "cell_type": "code",
   "execution_count": 29,
   "metadata": {
    "scrolled": true
   },
   "outputs": [
    {
     "data": {
      "text/plain": [
       "count       282.000000\n",
       "mean      14933.691489\n",
       "std       27631.454243\n",
       "min         322.000000\n",
       "25%        3763.250000\n",
       "50%        7901.500000\n",
       "75%       17541.500000\n",
       "max      301082.000000\n",
       "Name: Participants, dtype: float64"
      ]
     },
     "execution_count": 29,
     "metadata": {},
     "output_type": "execute_result"
    }
   ],
   "source": [
    "# descriptive statistics\n",
    "df['Participants'].describe()"
   ]
  },
  {
   "cell_type": "markdown",
   "metadata": {},
   "source": [
    "Most courses have less than 50,000 panticipants. Some courses have as mamy as over 300,000 participants."
   ]
  },
  {
   "cell_type": "markdown",
   "metadata": {},
   "source": [
    "#### PercentAudited"
   ]
  },
  {
   "cell_type": "code",
   "execution_count": 30,
   "metadata": {
    "scrolled": true
   },
   "outputs": [
    {
     "data": {
      "image/png": "[encoded data removed]",
      "text/plain": [
       "<Figure size 432x288 with 1 Axes>"
      ]
     },
     "metadata": {
      "needs_background": "light"
     },
     "output_type": "display_data"
    }
   ],
   "source": [
    "# boxplot of PercentAudited\n",
    "sb.boxplot(df['PercentAudited'])\n",
    "plt.title('Boxplot of PercentAudited')\n",
    "plt.xlabel('Percentage of Audited(%)');"
   ]
  },
  {
   "cell_type": "code",
   "execution_count": 31,
   "metadata": {
    "scrolled": true
   },
   "outputs": [
    {
     "data": {
      "text/plain": [
       "count    282.000000\n",
       "mean      25.154504\n",
       "std       15.915692\n",
       "min        2.630000\n",
       "25%       14.277500\n",
       "50%       20.440000\n",
       "75%       34.002500\n",
       "max       83.960000\n",
       "Name: PercentAudited, dtype: float64"
      ]
     },
     "execution_count": 31,
     "metadata": {},
     "output_type": "execute_result"
    }
   ],
   "source": [
    "# descriptive statistics\n",
    "df['PercentAudited'].describe()"
   ]
  },
  {
   "cell_type": "markdown",
   "metadata": {},
   "source": [
    "The percentage of audited vary a lot. With a range of 81 and mean of 25."
   ]
  },
  {
   "cell_type": "markdown",
   "metadata": {},
   "source": [
    "#### PercentPlayedVideo"
   ]
  },
  {
   "cell_type": "code",
   "execution_count": 32,
   "metadata": {
    "scrolled": true
   },
   "outputs": [
    {
     "data": {
      "image/png": "[encoded data removed]",
      "text/plain": [
       "<Figure size 432x288 with 1 Axes>"
      ]
     },
     "metadata": {
      "needs_background": "light"
     },
     "output_type": "display_data"
    }
   ],
   "source": [
    "# boxplot of PercentPlayedVideo\n",
    "sb.boxplot(df['PercentPlayedVideo'])\n",
    "plt.title('Boxplot of PercentPlayedVideo')\n",
    "plt.xlabel('Percentage of participants played video(%)');"
   ]
  },
  {
   "cell_type": "code",
   "execution_count": 33,
   "metadata": {
    "scrolled": false
   },
   "outputs": [
    {
     "data": {
      "text/plain": [
       "count    282.000000\n",
       "mean      64.589043\n",
       "std       11.901607\n",
       "min       10.960000\n",
       "25%       58.950000\n",
       "50%       66.265000\n",
       "75%       72.522500\n",
       "max       89.140000\n",
       "Name: PercentPlayedVideo, dtype: float64"
      ]
     },
     "execution_count": 33,
     "metadata": {},
     "output_type": "execute_result"
    }
   ],
   "source": [
    "# descriptive statistics\n",
    "df['PercentPlayedVideo'].describe()"
   ]
  },
  {
   "cell_type": "markdown",
   "metadata": {},
   "source": [
    "Most courses have a percentage of played video range from 40 to 89. However, there are also some courses with percentage of played video as less as 10."
   ]
  },
  {
   "cell_type": "markdown",
   "metadata": {},
   "source": [
    "#### PercentPosted"
   ]
  },
  {
   "cell_type": "code",
   "execution_count": 34,
   "metadata": {
    "scrolled": true
   },
   "outputs": [
    {
     "data": {
      "image/png": "[encoded data removed]",
      "text/plain": [
       "<Figure size 432x288 with 1 Axes>"
      ]
     },
     "metadata": {
      "needs_background": "light"
     },
     "output_type": "display_data"
    }
   ],
   "source": [
    "# boxplot of PercentPosted\n",
    "sb.boxplot(df['PercentPosted'])\n",
    "plt.title('Boxplot of PercentPosted')\n",
    "plt.xlabel('Percentage of Participants Who Posted(%)');"
   ]
  },
  {
   "cell_type": "code",
   "execution_count": 35,
   "metadata": {
    "scrolled": true
   },
   "outputs": [
    {
     "data": {
      "text/plain": [
       "count    282.000000\n",
       "mean       9.410461\n",
       "std        7.508248\n",
       "min        0.000000\n",
       "25%        4.115000\n",
       "50%        7.315000\n",
       "75%       14.107500\n",
       "max       35.280000\n",
       "Name: PercentPosted, dtype: float64"
      ]
     },
     "execution_count": 35,
     "metadata": {},
     "output_type": "execute_result"
    }
   ],
   "source": [
    "# descriptive statistics\n",
    "df['PercentPosted'].describe()"
   ]
  },
  {
   "cell_type": "markdown",
   "metadata": {},
   "source": [
    "#### PercentGradeHigherThanZero"
   ]
  },
  {
   "cell_type": "code",
   "execution_count": 36,
   "metadata": {
    "scrolled": true
   },
   "outputs": [
    {
     "data": {
      "image/png": "[encoded data removed]",
      "text/plain": [
       "<Figure size 432x288 with 1 Axes>"
      ]
     },
     "metadata": {
      "needs_background": "light"
     },
     "output_type": "display_data"
    }
   ],
   "source": [
    "# boxplot of PercentGradeHigherThanZero\n",
    "sb.boxplot(df['PercentGradeHigherThanZero'])\n",
    "plt.title('Boxplot of PercentGradeHigherThanZero')\n",
    "plt.xlabel('Percentage of Grade > 0(%)');"
   ]
  },
  {
   "cell_type": "code",
   "execution_count": 37,
   "metadata": {
    "scrolled": true
   },
   "outputs": [
    {
     "data": {
      "text/plain": [
       "count    282.000000\n",
       "mean      21.569858\n",
       "std       13.267177\n",
       "min        0.000000\n",
       "25%       11.727500\n",
       "50%       19.805000\n",
       "75%       31.180000\n",
       "max       52.350000\n",
       "Name: PercentGradeHigherThanZero, dtype: float64"
      ]
     },
     "execution_count": 37,
     "metadata": {},
     "output_type": "execute_result"
    }
   ],
   "source": [
    "# descriptive statistics\n",
    "df['PercentGradeHigherThanZero'].describe()"
   ]
  },
  {
   "cell_type": "markdown",
   "metadata": {},
   "source": [
    "#### TotalCourseHours"
   ]
  },
  {
   "cell_type": "code",
   "execution_count": 38,
   "metadata": {},
   "outputs": [
    {
     "data": {
      "image/png": "[encoded data removed]",
      "text/plain": [
       "<Figure size 720x432 with 1 Axes>"
      ]
     },
     "metadata": {
      "needs_background": "light"
     },
     "output_type": "display_data"
    }
   ],
   "source": [
    "# histogram of TotalCourseHours\n",
    "plt.figure(figsize=(10, 6))\n",
    "plt.hist(df['TotalCourseHours'], bins=40)\n",
    "plt.title('Histogram of Certification Rate for Audited')\n",
    "plt.xlabel('TotalCourseHours')\n",
    "plt.ylabel('Count');"
   ]
  },
  {
   "cell_type": "code",
   "execution_count": 39,
   "metadata": {
    "scrolled": true
   },
   "outputs": [
    {
     "data": {
      "image/png": "[encoded data removed]",
      "text/plain": [
       "<Figure size 432x288 with 1 Axes>"
      ]
     },
     "metadata": {
      "needs_background": "light"
     },
     "output_type": "display_data"
    }
   ],
   "source": [
    "# boxplot of TotalCourseHours\n",
    "sb.boxplot(df['TotalCourseHours'])\n",
    "plt.title('Boxplot of TotalCourseHours')\n",
    "plt.xlabel('Total Participant Hours of The Course');"
   ]
  },
  {
   "cell_type": "code",
   "execution_count": 40,
   "metadata": {
    "scrolled": true
   },
   "outputs": [
    {
     "data": {
      "text/plain": [
       "count    282.000000\n",
       "mean      95.709149\n",
       "std      159.208726\n",
       "min        0.110000\n",
       "25%       13.475000\n",
       "50%       37.710000\n",
       "75%       97.225000\n",
       "max      895.010000\n",
       "Name: TotalCourseHours, dtype: float64"
      ]
     },
     "execution_count": 40,
     "metadata": {},
     "output_type": "execute_result"
    }
   ],
   "source": [
    "# descriptive statistics\n",
    "df['TotalCourseHours'].describe()"
   ]
  },
  {
   "cell_type": "markdown",
   "metadata": {},
   "source": [
    "The Total Course Hours vary a lot. Most of the courses have a Total Course Hours of less than 100 hours. However, there are some coueses have a Total Course Hours of almost 900 hours."
   ]
  },
  {
   "cell_type": "markdown",
   "metadata": {},
   "source": [
    "#### MedianHoursCertification"
   ]
  },
  {
   "cell_type": "code",
   "execution_count": 41,
   "metadata": {
    "scrolled": true
   },
   "outputs": [
    {
     "data": {
      "image/png": "[encoded data removed]",
      "text/plain": [
       "<Figure size 432x288 with 1 Axes>"
      ]
     },
     "metadata": {
      "needs_background": "light"
     },
     "output_type": "display_data"
    }
   ],
   "source": [
    "# boxplot of MedianHoursCertification\n",
    "sb.boxplot(df['MedianHoursCertification'])\n",
    "plt.title('Boxplot of MedianHoursCertification')\n",
    "plt.xlabel('Median Hours for Certification');"
   ]
  },
  {
   "cell_type": "code",
   "execution_count": 42,
   "metadata": {
    "scrolled": false
   },
   "outputs": [
    {
     "data": {
      "text/plain": [
       "count    282.000000\n",
       "mean      44.863865\n",
       "std       43.771098\n",
       "min        0.000000\n",
       "25%       12.485000\n",
       "50%       27.290000\n",
       "75%       67.472500\n",
       "max      251.820000\n",
       "Name: MedianHoursCertification, dtype: float64"
      ]
     },
     "execution_count": 42,
     "metadata": {},
     "output_type": "execute_result"
    }
   ],
   "source": [
    "# descriptive statistics\n",
    "df['MedianHoursCertification'].describe()"
   ]
  },
  {
   "cell_type": "markdown",
   "metadata": {},
   "source": [
    "## Bivariate Exploration\n",
    "\n",
    "In this part, we conduct analysis on two variables to explore the relationship between the dependent variable and independent variables. For the dependent variable, we will focus on PercentCertifiedAudited.\n",
    "\n",
    "### Course related variables"
   ]
  },
  {
   "cell_type": "markdown",
   "metadata": {},
   "source": [
    "#### Institution vs. Certification"
   ]
  },
  {
   "cell_type": "code",
   "execution_count": 43,
   "metadata": {},
   "outputs": [
    {
     "data": {
      "image/png": "[encoded data removed]",
      "text/plain": [
       "<Figure size 432x288 with 1 Axes>"
      ]
     },
     "metadata": {
      "needs_background": "light"
     },
     "output_type": "display_data"
    }
   ],
   "source": [
    "# boxplot of Instituton vs. Certification\n",
    "sb.boxplot(x='Institution', y='PercentCertifiedAudited', data=df)\n",
    "plt.ylabel('Certification Rate')\n",
    "plt.savefig('figures/Figure 3.pdf');"
   ]
  },
  {
   "cell_type": "markdown",
   "metadata": {},
   "source": [
    "The mean certification rate of HarvardX courses is a little higher than MITx courses. "
   ]
  },
  {
   "cell_type": "code",
   "execution_count": 69,
   "metadata": {},
   "outputs": [
    {
     "name": "stdout",
     "output_type": "stream",
     "text": [
      "The p value is 0.03715979651963099\n",
      "\n",
      "p is very small, there is a significant difference between the two means\n"
     ]
    }
   ],
   "source": [
    "# we will use a z test to check how significant is the difference between mean certification rate of HarvardX and MITx\n",
    "\n",
    "z, p = ztest(df[df.Institution=='HarvardX'].PercentCertifiedAudited, df[df.Institution=='MITx'].PercentCertifiedAudited)\n",
    "\n",
    "print('The p value is {}\\n'.format(p))\n",
    "if p < 0.05:\n",
    "    print('p is very small, there is a significant difference between the two means')\n",
    "else:\n",
    "    print('p is relatively large, there is no sufficient evidence to show the significant difference between the two means')\n"
   ]
  },
  {
   "cell_type": "markdown",
   "metadata": {},
   "source": [
    "#### Course Subject vs.  Certification"
   ]
  },
  {
   "cell_type": "code",
   "execution_count": 45,
   "metadata": {
    "scrolled": false
   },
   "outputs": [
    {
     "data": {
      "image/png": "[encoded data removed]",
      "text/plain": [
       "<Figure size 432x288 with 1 Axes>"
      ]
     },
     "metadata": {
      "needs_background": "light"
     },
     "output_type": "display_data"
    }
   ],
   "source": [
    "# boxplot of CourseSubject vs. certification rate\n",
    "sb.boxplot(x='CourseSubject', y='PercentCertifiedAudited', data=df)\n",
    "plt.ylabel('Certification Rate')\n",
    "plt.xlabel('Course Subject')\n",
    "plt.savefig('figures/Figure 4.pdf');"
   ]
  },
  {
   "cell_type": "markdown",
   "metadata": {},
   "source": [
    "STEM has a relatively lower certification rate."
   ]
  },
  {
   "cell_type": "code",
   "execution_count": 46,
   "metadata": {},
   "outputs": [
    {
     "name": "stdout",
     "output_type": "stream",
     "text": [
      "The p value is 0.0005402887727497603\n",
      "\n",
      "p is very small, there is a significant difference between the means of the groups\n"
     ]
    }
   ],
   "source": [
    "# ANOVA test\n",
    "stem_certi = df[df.CourseSubject=='STEM'].PercentCertifiedAudited\n",
    "cs_certi = df[df.CourseSubject=='CS'].PercentCertifiedAudited\n",
    "ghss_certi = df[df.CourseSubject=='GHSS'].PercentCertifiedAudited\n",
    "hhdre_certi = df[df.CourseSubject=='HHDRE'].PercentCertifiedAudited\n",
    "f, p = stats.f_oneway(stem_certi, cs_certi, ghss_certi, hhdre_certi)\n",
    "\n",
    "print('The p value is {}\\n'.format(p))\n",
    "if p < 0.05:\n",
    "    print('p is very small, there is a significant difference between the means of the groups')\n",
    "else:\n",
    "    print('p is relatively large, there is no sufficient evidence to show the significant difference between means of the three groups')\n",
    "    "
   ]
  },
  {
   "cell_type": "markdown",
   "metadata": {},
   "source": [
    "#### Year vs. Certification"
   ]
  },
  {
   "cell_type": "code",
   "execution_count": 47,
   "metadata": {
    "scrolled": true
   },
   "outputs": [
    {
     "data": {
      "image/png": "[encoded data removed]",
      "text/plain": [
       "<Figure size 432x288 with 1 Axes>"
      ]
     },
     "metadata": {
      "needs_background": "light"
     },
     "output_type": "display_data"
    }
   ],
   "source": [
    "sb.boxplot(x='Year', y='PercentCertifiedAudited', data=df)\n",
    "plt.ylabel('Certification Rate')\n",
    "plt.savefig('figures/Figure 5.pdf');"
   ]
  },
  {
   "cell_type": "markdown",
   "metadata": {},
   "source": [
    "The certification rate is decreasing over the years."
   ]
  },
  {
   "cell_type": "code",
   "execution_count": 48,
   "metadata": {},
   "outputs": [
    {
     "name": "stdout",
     "output_type": "stream",
     "text": [
      "The p value is 2.9242173208766897e-16\n",
      "\n",
      "p is very small, there is a significant difference between the means of the groups\n"
     ]
    }
   ],
   "source": [
    "# ANOVA test\n",
    "year1_certi = df[df.Year==1].PercentCertifiedAudited\n",
    "year2_certi = df[df.Year==2].PercentCertifiedAudited\n",
    "year3_certi = df[df.Year==3].PercentCertifiedAudited\n",
    "year4_certi = df[df.Year==4].PercentCertifiedAudited\n",
    "f, p = stats.f_oneway(year1_certi, year2_certi, year3_certi, year4_certi)\n",
    "\n",
    "print('The p value is {}\\n'.format(p))\n",
    "if p < 0.05:\n",
    "    print('p is very small, there is a significant difference between the means of the groups')\n",
    "else:\n",
    "    print('p is relatively large, there is no sufficient evidence to show the significant difference between means of the three groups')\n",
    "    "
   ]
  },
  {
   "cell_type": "markdown",
   "metadata": {},
   "source": [
    "### Learners Demographic variables"
   ]
  },
  {
   "cell_type": "markdown",
   "metadata": {},
   "source": [
    "#### Age vs. Certification"
   ]
  },
  {
   "cell_type": "code",
   "execution_count": 49,
   "metadata": {
    "scrolled": true
   },
   "outputs": [
    {
     "data": {
      "image/png": "[encoded data removed]",
      "text/plain": [
       "<Figure size 432x288 with 1 Axes>"
      ]
     },
     "metadata": {
      "needs_background": "light"
     },
     "output_type": "display_data"
    }
   ],
   "source": [
    "# scatter plot of median age vs. certification rate\n",
    "plt.scatter(x='MedianAge', y='PercentCertifiedAudited',data=df)\n",
    "#plt.title('Sactter Plot as Age vs. Certification')\n",
    "plt.xlabel('Median Age')\n",
    "plt.ylabel('Certification Rate')\n",
    "plt.savefig('figures/Figure 6.pdf');"
   ]
  },
  {
   "cell_type": "code",
   "execution_count": 50,
   "metadata": {},
   "outputs": [
    {
     "data": {
      "text/plain": [
       "array([[1.        , 0.21326241],\n",
       "       [0.21326241, 1.        ]])"
      ]
     },
     "execution_count": 50,
     "metadata": {},
     "output_type": "execute_result"
    }
   ],
   "source": [
    "# Pearson's correlation coefficient\n",
    "np.corrcoef(df['MedianAge'], df['PercentCertifiedAudited'])"
   ]
  },
  {
   "cell_type": "markdown",
   "metadata": {},
   "source": [
    "There is a weak positive correlation"
   ]
  },
  {
   "cell_type": "markdown",
   "metadata": {},
   "source": [
    "#### Gender vs. Certification"
   ]
  },
  {
   "cell_type": "code",
   "execution_count": 51,
   "metadata": {
    "scrolled": true
   },
   "outputs": [
    {
     "data": {
      "image/png": "[encoded data removed]",
      "text/plain": [
       "<Figure size 432x288 with 1 Axes>"
      ]
     },
     "metadata": {
      "needs_background": "light"
     },
     "output_type": "display_data"
    }
   ],
   "source": [
    "plt.scatter(x='PercentFemale', y='PercentCertifiedAudited',data=df)\n",
    "plt.xlabel('Percentage of Female')\n",
    "plt.ylabel('Certification Rate')\n",
    "plt.savefig('figures/Figure 7.pdf');"
   ]
  },
  {
   "cell_type": "code",
   "execution_count": 52,
   "metadata": {
    "scrolled": true
   },
   "outputs": [
    {
     "data": {
      "text/plain": [
       "array([[1.        , 0.24060363],\n",
       "       [0.24060363, 1.        ]])"
      ]
     },
     "execution_count": 52,
     "metadata": {},
     "output_type": "execute_result"
    }
   ],
   "source": [
    "# Pearson's correlation coefficient\n",
    "np.corrcoef(df['PercentFemale'], df['PercentCertifiedAudited'])"
   ]
  },
  {
   "cell_type": "markdown",
   "metadata": {},
   "source": [
    "There is a weak positive correlation"
   ]
  },
  {
   "cell_type": "markdown",
   "metadata": {},
   "source": [
    "#### Level of Education vs. Certification"
   ]
  },
  {
   "cell_type": "code",
   "execution_count": 53,
   "metadata": {
    "scrolled": false
   },
   "outputs": [
    {
     "data": {
      "image/png": "[encoded data removed]",
      "text/plain": [
       "<Figure size 432x288 with 1 Axes>"
      ]
     },
     "metadata": {
      "needs_background": "light"
     },
     "output_type": "display_data"
    }
   ],
   "source": [
    "plt.scatter(x='PercentBachelorOrHigher', y='PercentCertifiedAudited',data=df)\n",
    "plt.xlabel('Percentage of Bachelar\\'s Or Higher')\n",
    "plt.ylabel('Certification Rate')\n",
    "plt.savefig('figures/Figure 8.pdf');"
   ]
  },
  {
   "cell_type": "code",
   "execution_count": 54,
   "metadata": {
    "scrolled": false
   },
   "outputs": [
    {
     "data": {
      "text/plain": [
       "array([[1.        , 0.10142417],\n",
       "       [0.10142417, 1.        ]])"
      ]
     },
     "execution_count": 54,
     "metadata": {},
     "output_type": "execute_result"
    }
   ],
   "source": [
    "# Pearson's correlation coefficient\n",
    "np.corrcoef(df['PercentBachelorOrHigher'], df['PercentCertifiedAudited'])"
   ]
  },
  {
   "cell_type": "markdown",
   "metadata": {},
   "source": [
    "There is a weak positive correlation"
   ]
  },
  {
   "cell_type": "markdown",
   "metadata": {},
   "source": [
    "### Learners activity variables\n",
    "\n",
    "In this part, we explore the relationship between certification and learners activity variables including 'Participants','PercentAudited', 'PercentPlayedVideo', 'PercentPosted', 'PercentGradeGreaterThanZero', 'TotalCourseHours', 'MedianHoursCertification'"
   ]
  },
  {
   "cell_type": "markdown",
   "metadata": {},
   "source": [
    "#### Participants vs. Certification"
   ]
  },
  {
   "cell_type": "code",
   "execution_count": 55,
   "metadata": {
    "scrolled": false
   },
   "outputs": [
    {
     "data": {
      "image/png": "[encoded data removed]",
      "text/plain": [
       "<Figure size 432x288 with 1 Axes>"
      ]
     },
     "metadata": {
      "needs_background": "light"
     },
     "output_type": "display_data"
    }
   ],
   "source": [
    "plt.scatter(x='Participants', y='PercentCertifiedAudited',data=df)\n",
    "plt.xlabel('Number of participants')\n",
    "plt.ylabel('Certification Rate')\n",
    "plt.savefig('figures/Figure 9.pdf');"
   ]
  },
  {
   "cell_type": "code",
   "execution_count": 56,
   "metadata": {
    "scrolled": true
   },
   "outputs": [
    {
     "data": {
      "text/plain": [
       "array([[ 1.        , -0.03089816],\n",
       "       [-0.03089816,  1.        ]])"
      ]
     },
     "execution_count": 56,
     "metadata": {},
     "output_type": "execute_result"
    }
   ],
   "source": [
    "# Pearson's correlation coefficient\n",
    "np.corrcoef(df['Participants'], df['PercentCertifiedAudited'])"
   ]
  },
  {
   "cell_type": "markdown",
   "metadata": {},
   "source": [
    "There is no correlation between Number of Participants and Certification rate."
   ]
  },
  {
   "cell_type": "markdown",
   "metadata": {},
   "source": [
    "#### Audited vs. Certification"
   ]
  },
  {
   "cell_type": "code",
   "execution_count": 57,
   "metadata": {
    "scrolled": false
   },
   "outputs": [
    {
     "data": {
      "image/png": "[encoded data removed]",
      "text/plain": [
       "<Figure size 432x288 with 1 Axes>"
      ]
     },
     "metadata": {
      "needs_background": "light"
     },
     "output_type": "display_data"
    }
   ],
   "source": [
    "plt.scatter(x='PercentAudited', y='PercentCertifiedAudited',data=df)\n",
    "plt.xlabel('Percentage of Audited Among Participants')\n",
    "plt.ylabel('Certification Rate')\n",
    "plt.savefig('figures/Figure 10.pdf');"
   ]
  },
  {
   "cell_type": "code",
   "execution_count": 58,
   "metadata": {},
   "outputs": [
    {
     "data": {
      "text/plain": [
       "array([[ 1.        , -0.10309347],\n",
       "       [-0.10309347,  1.        ]])"
      ]
     },
     "execution_count": 58,
     "metadata": {},
     "output_type": "execute_result"
    }
   ],
   "source": [
    "# Pearson's correlation coefficient\n",
    "np.corrcoef(df['PercentAudited'], df['PercentCertifiedAudited'])"
   ]
  },
  {
   "cell_type": "markdown",
   "metadata": {},
   "source": [
    "There is a weak negative correlation."
   ]
  },
  {
   "cell_type": "markdown",
   "metadata": {},
   "source": [
    "#### Played Video vs. Certification"
   ]
  },
  {
   "cell_type": "code",
   "execution_count": 59,
   "metadata": {
    "scrolled": false
   },
   "outputs": [
    {
     "data": {
      "image/png": "[encoded data removed]",
      "text/plain": [
       "<Figure size 432x288 with 1 Axes>"
      ]
     },
     "metadata": {
      "needs_background": "light"
     },
     "output_type": "display_data"
    }
   ],
   "source": [
    "plt.scatter(x='PercentPlayedVideo', y='PercentCertifiedAudited',data=df)\n",
    "plt.xlabel('Percent Played video')\n",
    "plt.ylabel('Certification Rate')\n",
    "plt.savefig('figures/Figure 11.pdf');"
   ]
  },
  {
   "cell_type": "code",
   "execution_count": 60,
   "metadata": {
    "scrolled": true
   },
   "outputs": [
    {
     "data": {
      "text/plain": [
       "array([[1.        , 0.27272419],\n",
       "       [0.27272419, 1.        ]])"
      ]
     },
     "execution_count": 60,
     "metadata": {},
     "output_type": "execute_result"
    }
   ],
   "source": [
    "# Pearson's correlation coefficient\n",
    "np.corrcoef(df['PercentPlayedVideo'], df['PercentCertifiedAudited'])"
   ]
  },
  {
   "cell_type": "markdown",
   "metadata": {},
   "source": [
    "There is a weak positive correlation."
   ]
  },
  {
   "cell_type": "markdown",
   "metadata": {},
   "source": [
    "#### Post vs. Certification"
   ]
  },
  {
   "cell_type": "code",
   "execution_count": 61,
   "metadata": {},
   "outputs": [
    {
     "data": {
      "image/png": "[encoded data removed]",
      "text/plain": [
       "<Figure size 432x288 with 1 Axes>"
      ]
     },
     "metadata": {
      "needs_background": "light"
     },
     "output_type": "display_data"
    }
   ],
   "source": [
    "plt.scatter(x='PercentPosted', y='PercentCertifiedAudited',data=df)\n",
    "plt.xlabel('Percent Posted')\n",
    "plt.ylabel('Certification Rate')\n",
    "plt.savefig('figures/Figure 12.pdf');"
   ]
  },
  {
   "cell_type": "code",
   "execution_count": 62,
   "metadata": {
    "scrolled": true
   },
   "outputs": [
    {
     "data": {
      "text/plain": [
       "array([[1.        , 0.38255059],\n",
       "       [0.38255059, 1.        ]])"
      ]
     },
     "execution_count": 62,
     "metadata": {},
     "output_type": "execute_result"
    }
   ],
   "source": [
    "# Pearson's correlation coefficient\n",
    "np.corrcoef(df['PercentPosted'], df['PercentCertifiedAudited'])"
   ]
  },
  {
   "cell_type": "markdown",
   "metadata": {},
   "source": [
    "There is a weak positive correlation."
   ]
  },
  {
   "cell_type": "markdown",
   "metadata": {},
   "source": [
    "#### Grade vs. Certification"
   ]
  },
  {
   "cell_type": "code",
   "execution_count": 63,
   "metadata": {
    "scrolled": true
   },
   "outputs": [
    {
     "data": {
      "image/png": "[encoded data removed]",
      "text/plain": [
       "<Figure size 432x288 with 1 Axes>"
      ]
     },
     "metadata": {
      "needs_background": "light"
     },
     "output_type": "display_data"
    }
   ],
   "source": [
    "plt.scatter(x='PercentGradeHigherThanZero', y='PercentCertifiedAudited',data=df)\n",
    "plt.xlabel('Percent Grade Higher Than Zero')\n",
    "plt.ylabel('Certification Rate')\n",
    "plt.savefig('figures/Figure 13.pdf');"
   ]
  },
  {
   "cell_type": "code",
   "execution_count": 64,
   "metadata": {},
   "outputs": [
    {
     "data": {
      "text/plain": [
       "array([[1.        , 0.66194215],\n",
       "       [0.66194215, 1.        ]])"
      ]
     },
     "execution_count": 64,
     "metadata": {},
     "output_type": "execute_result"
    }
   ],
   "source": [
    "# Pearson's correlation coefficient\n",
    "np.corrcoef(df['PercentGradeHigherThanZero'], df['PercentCertifiedAudited'])"
   ]
  },
  {
   "cell_type": "markdown",
   "metadata": {},
   "source": [
    "There is a strong correlation between grade and certificatio rate."
   ]
  },
  {
   "cell_type": "markdown",
   "metadata": {},
   "source": [
    "#### Total Hours vs. Certification"
   ]
  },
  {
   "cell_type": "code",
   "execution_count": 65,
   "metadata": {
    "scrolled": true
   },
   "outputs": [
    {
     "data": {
      "image/png": "[encoded data removed]",
      "text/plain": [
       "<Figure size 432x288 with 1 Axes>"
      ]
     },
     "metadata": {
      "needs_background": "light"
     },
     "output_type": "display_data"
    }
   ],
   "source": [
    "plt.scatter(x='TotalCourseHours', y='PercentCertifiedAudited',data=df)\n",
    "plt.xlabel('Total Participant Hours of the Course')\n",
    "plt.ylabel('Certification Rate')\n",
    "plt.savefig('figures/Figure 14.pdf');"
   ]
  },
  {
   "cell_type": "code",
   "execution_count": 66,
   "metadata": {},
   "outputs": [
    {
     "data": {
      "text/plain": [
       "array([[1.        , 0.22443978],\n",
       "       [0.22443978, 1.        ]])"
      ]
     },
     "execution_count": 66,
     "metadata": {},
     "output_type": "execute_result"
    }
   ],
   "source": [
    "# Pearson's correlation coefficient\n",
    "np.corrcoef(df['TotalCourseHours'], df['PercentCertifiedAudited'])"
   ]
  },
  {
   "cell_type": "markdown",
   "metadata": {},
   "source": [
    "There is a weak positive correlation."
   ]
  },
  {
   "cell_type": "markdown",
   "metadata": {},
   "source": [
    "#### Median Hours for Certification vs Certification"
   ]
  },
  {
   "cell_type": "code",
   "execution_count": 67,
   "metadata": {},
   "outputs": [
    {
     "data": {
      "text/plain": [
       "''"
      ]
     },
     "execution_count": 67,
     "metadata": {},
     "output_type": "execute_result"
    },
    {
     "data": {
      "image/png": "[encoded data removed]",
      "text/plain": [
       "<Figure size 432x288 with 1 Axes>"
      ]
     },
     "metadata": {
      "needs_background": "light"
     },
     "output_type": "display_data"
    }
   ],
   "source": [
    "plt.scatter(x='MedianHoursCertification', y='PercentCertifiedAudited',data=df)\n",
    "plt.xlabel('Median Hours for Completion')\n",
    "plt.ylabel('Certification Rate')\n",
    "plt.savefig('figures/Figure 15.pdf')\n",
    ";"
   ]
  },
  {
   "cell_type": "code",
   "execution_count": 68,
   "metadata": {},
   "outputs": [
    {
     "data": {
      "text/plain": [
       "array([[ 1.        , -0.01952236],\n",
       "       [-0.01952236,  1.        ]])"
      ]
     },
     "execution_count": 68,
     "metadata": {},
     "output_type": "execute_result"
    }
   ],
   "source": [
    "# Pearson's correlation coefficient\n",
    "np.corrcoef(df['MedianHoursCertification'], df['PercentCertifiedAudited'])"
   ]
  },
  {
   "cell_type": "markdown",
   "metadata": {},
   "source": [
    "There is no correlation."
   ]
  },
  {
   "cell_type": "markdown",
   "metadata": {},
   "source": [
    "**Summary:**\n",
    "\n",
    "All variables have somewhat correlation with certification except Participants and MedianHoursCertification. Among the variables correlated to certification rate, PercentGradeHigherThanZero has a relatively strong correlation. "
   ]
  },
  {
   "cell_type": "code",
   "execution_count": null,
   "metadata": {},
   "outputs": [],
   "source": []
  }
 ],
 "metadata": {
  "hide_input": false,
  "kernelspec": {
   "display_name": "Python 3",
   "language": "python",
   "name": "python3"
  },
  "language_info": {
   "codemirror_mode": {
    "name": "ipython",
    "version": 3
   },
   "file_extension": ".py",
   "mimetype": "text/x-python",
   "name": "python",
   "nbconvert_exporter": "python",
   "pygments_lexer": "ipython3",
   "version": "3.7.3"
  },
  "latex_envs": {
   "LaTeX_envs_menu_present": true,
   "autoclose": false,
   "autocomplete": true,
   "bibliofile": "biblio.bib",
   "cite_by": "apalike",
   "current_citInitial": 1,
   "eqLabelWithNumbers": true,
   "eqNumInitial": 1,
   "hotkeys": {
    "equation": "Ctrl-E",
    "itemize": "Ctrl-I"
   },
   "labels_anchors": false,
   "latex_user_defs": false,
   "report_style_numbering": false,
   "user_envs_cfg": false
  },
  "toc": {
   "base_numbering": 1,
   "nav_menu": {},
   "number_sections": true,
   "sideBar": true,
   "skip_h1_title": false,
   "title_cell": "Table of Contents",
   "title_sidebar": "Contents",
   "toc_cell": false,
   "toc_position": {},
   "toc_section_display": true,
   "toc_window_display": false
  },
  "varInspector": {
   "cols": {
    "lenName": 16,
    "lenType": 16,
    "lenVar": 40
   },
   "kernels_config": {
    "python": {
     "delete_cmd_postfix": "",
     "delete_cmd_prefix": "del ",
     "library": "var_list.py",
     "varRefreshCmd": "print(var_dic_list())"
    },
    "r": {
     "delete_cmd_postfix": ") ",
     "delete_cmd_prefix": "rm(",
     "library": "var_list.r",
     "varRefreshCmd": "cat(var_dic_list()) "
    }
   },
   "types_to_exclude": [
    "module",
    "function",
    "builtin_function_or_method",
    "instance",
    "_Feature"
   ],
   "window_display": false
  }
 },
 "nbformat": 4,
 "nbformat_minor": 2
}
